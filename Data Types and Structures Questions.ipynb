{
 "cells": [
  {
   "cell_type": "markdown",
   "id": "76db5cfc-6ce4-4659-bd8b-36ec53414c94",
   "metadata": {},
   "source": [
    "DATA TYPES AND STRUCTURES QUESTIONS"
   ]
  },
  {
   "cell_type": "markdown",
   "id": "fbe9b251-17c2-493d-9dbe-4f40dfcd1ca3",
   "metadata": {},
   "source": [
    "Q1-What are data structures, and why are they important?\n",
    "\n",
    "A1-Data structures are like containers for organizing data in a program—think lists, dictionaries, or sets. They’re super important because they make it easier and faster to store, access, and manipulate data. The right data structure can make your code run smoothly and scale well, whether you’re managing a small list or a massive dataset."
   ]
  },
  {
   "cell_type": "markdown",
   "id": "0ef17005-c72a-4c93-b35e-8db58bdb0f22",
   "metadata": {},
   "source": [
    "Q2-What’s the difference between mutable and immutable data types? Give examples.\n",
    "\n",
    "A2-Mutable data types are ones you can change after creating them. For example, a list like my_list = [1, 2] can be updated with my_list.append(3). Immutable types, like strings (my_str = \"hello\"), can’t be changed—trying my_str[0] = \"H\" will throw an error. Other mutable types include dictionaries and sets; immutable ones include tuples and numbers."
   ]
  },
  {
   "cell_type": "markdown",
   "id": "e817d5f4-69c4-454e-9d9f-87c4e54ac18b",
   "metadata": {},
   "source": [
    "Q3-How do lists and tuples differ in Python?\n",
    "\n",
    "A3-Lists are mutable, so you can add, remove, or change items (e.g., my_list = [1, 2]; my_list.append(3)). They use square brackets []. Tuples are immutable—you can’t change them after creation (e.g., my_tuple = (1, 2); trying my_tuple[0] = 3 fails). Tuples use parentheses () and are faster with less memory overhead."
   ]
  },
  {
   "cell_type": "markdown",
   "id": "2b3c45d4-1f94-4fc3-bc6a-af4a2b189acf",
   "metadata": {},
   "source": [
    "Q4-How do dictionaries store data?\n",
    "\n",
    "A4-Dictionaries store data as key-value pairs, like a real dictionary where words (keys) map to definitions (values). For example, my_dict = {\"name\": \"Alice\", \"age\": 25} lets you access Alice with my_dict[\"name\"]. Keys have to be immutable (like strings or tuples), but values can be anything."
   ]
  },
  {
   "cell_type": "markdown",
   "id": "a630a099-a9ba-42a5-add7-b49780356057",
   "metadata": {},
   "source": [
    "Q5-Why use a set instead of a list in Python?\n",
    "\n",
    "A5-Sets are great when you want unique items and don’t care about order or duplicates. For example, my_set = {1, 2, 2} only keeps {1, 2}. They’re also super fast for checking if something’s in there and for doing stuff like finding common items between sets. Lists are better for ordered data or when duplicates are okay."
   ]
  },
  {
   "cell_type": "markdown",
   "id": "541895df-cf42-4adb-9772-039fb1c8fb1a",
   "metadata": {},
   "source": [
    "Q6. What’s a string in Python, and how’s it different from a list?\n",
    "Answer 6:\n",
    "A string is just a sequence of characters, like my_str = \"hello\", and it’s immutable—you can’t change it. A list, like my_list = [1, \"hi\", 3.14], is mutable and can hold any mix of data types. Strings are strictly for text; lists are more flexible for all kinds of data."
   ]
  },
  {
   "cell_type": "markdown",
   "id": "eb8b0ef3-fcf9-4c5d-b1a9-65f5708c1ebc",
   "metadata": {},
   "source": [
    "Q7. How do tuples ensure data integrity in Python?\n",
    "Answer 7:\n",
    "Since tuples are immutable, once you create one (like my_tuple = (\"Alice\", 25)), it’s locked in—no changes allowed. This makes them perfect for data that shouldn’t be messed with, like coordinates or database records, keeping things consistent and safe."
   ]
  },
  {
   "cell_type": "markdown",
   "id": "be9d7293-efd6-4ba3-bdb8-b72ccf862aad",
   "metadata": {},
   "source": [
    "Q8. What’s a hash table, and how does it relate to dictionaries?\n",
    "Answer 8:\n",
    "A hash table is a clever way to store data where keys are run through a hash function to find where their values are stored, making lookups crazy fast. Python’s dictionaries are built on hash tables, which is why grabbing my_dict[\"key\"] is so quick."
   ]
  },
  {
   "cell_type": "markdown",
   "id": "3d364096-0d84-4fc7-86bc-fa5056eaaac4",
   "metadata": {},
   "source": [
    "Q9. Can lists hold different data types in Python?\n",
    "Answer 9:\n",
    "Yup, lists are super flexible! You can toss in all sorts of stuff, like my_list = [1, \"hello\", 3.14, True]. It’s like a grab bag for data, unlike some languages that are pickier about what goes in a list."
   ]
  },
  {
   "cell_type": "markdown",
   "id": "9397a554-f1f5-4439-88f3-fb500480d526",
   "metadata": {},
   "source": [
    "Q10. Why are strings immutable in Python?\n",
    "Answer 10:\n",
    "Strings are immutable to keep things efficient and safe. Since they can’t change, they’re reliable as dictionary keys or in shared data situations. Plus, Python can optimize memory by reusing identical strings (called interning), which saves space."
   ]
  },
  {
   "cell_type": "markdown",
   "id": "e3496b05-e337-4141-adff-b21927fdd658",
   "metadata": {},
   "source": [
    "Q11. What advantages do dictionaries have over lists for certain tasks?\n",
    "Answer 11:\n",
    "Dictionaries are way faster for looking up data by key—like finding a phone number by someone’s name. They’re built for quick access (O(1) speed) compared to lists, where you might have to search through every item (O(n)). Perfect for stuff like settings or lookup tables."
   ]
  },
  {
   "cell_type": "markdown",
   "id": "9e3ecb66-4d0a-4777-a636-27b5a8a8e355",
   "metadata": {},
   "source": [
    "Q12. When would you use a tuple instead of a list?\n",
    "Answer 12:\n",
    "Imagine you’re storing something fixed, like a person’s info: person = (\"Alice\", 25, \"Engineer\"). A tuple’s immutability ensures nobody accidentally changes it, and it’s lighter on memory than a list. Great for constants or data you want to protect."
   ]
  },
  {
   "cell_type": "markdown",
   "id": "a70f0339-95e1-4d14-80be-45dd244ede1f",
   "metadata": {},
   "source": [
    "Q13. How do sets handle duplicates in Python?\n",
    "Answer 13:\n",
    "Sets don’t mess around with duplicates—they just keep one of each value. So, if you do my_set = {1, 2, 2, 3}, you end up with {1, 2, 3}. Their hash table setup makes sure duplicates are tossed out automatically."
   ]
  },
  {
   "cell_type": "markdown",
   "id": "6dd66aed-4f6c-46ba-a39f-ab6e181db4a4",
   "metadata": {},
   "source": [
    "Q14. How does the “in” keyword work differently for lists and dictionaries?\n",
    "Answer 14:\n",
    "With lists, in checks if an item is in the sequence, like 3 in [1, 2, 3] returns True, but it has to scan the list (O(n)). For dictionaries, in checks for keys, like \"key\" in {\"key\": \"value\"}, and it’s super fast (O(1)) thanks to hashing."
   ]
  },
  {
   "cell_type": "markdown",
   "id": "37649106-967b-4640-87c5-39218702b1ed",
   "metadata": {},
   "source": [
    "Q15. Can you modify a tuple’s elements? Why or why not?\n",
    "Answer 15:\n",
    "Nope, you can’t modify a tuple’s elements. They’re immutable, meaning once you set my_tuple = (1, 2), it’s locked. This ensures data stays consistent and can be used in places like dictionary keys where immutability is key."
   ]
  },
  {
   "cell_type": "markdown",
   "id": "aa727086-0061-41bf-984b-0ad8c9b89039",
   "metadata": {},
   "source": [
    "Q16. What’s a nested dictionary, and what’s a use case for it?\n",
    "Answer 16:\n",
    "A nested dictionary is a dictionary inside another one, like:\n",
    "students = {\"Alice\": {\"age\": 20, \"grade\": \"A\"}, \"Bob\": {\"age\": 22, \"grade\": \"B\"}}\n",
    "It’s great for organizing complex data, like storing student info where each student has multiple attributes."
   ]
  },
  {
   "cell_type": "markdown",
   "id": "e6fcb152-17a9-4510-83d4-126ad1b31f62",
   "metadata": {},
   "source": [
    "Q17. What’s the time complexity for accessing dictionary elements?\n",
    "Answer 17:\n",
    "Grabbing a value from a dictionary (like my_dict[\"key\"]) is usually O(1) on average because of the hash table magic. If there are a lot of hash collisions (rare), it could be O(n) in the worst case, but that’s not common."
   ]
  },
  {
   "cell_type": "markdown",
   "id": "43b2c798-1fc1-4f41-a5b0-98b9b0326ae4",
   "metadata": {},
   "source": [
    "Q18. When are lists better than dictionaries?\n",
    "Answer 18:\n",
    "Lists shine when you need order, like a playlist of songs, or when you’re okay with duplicates and want to access stuff by index. They’re also great for sequential data, like a time series, where keys aren’t needed."
   ]
  },
  {
   "cell_type": "markdown",
   "id": "ff9a9547-de42-4569-aea1-b12147deb8ac",
   "metadata": {},
   "source": [
    "Q19. Why are dictionaries considered unordered, and how does that affect retrieval?\n",
    "Answer 19:\n",
    "Older Python dictionaries (before 3.7) didn’t track insertion order, so they were considered unordered. Since 3.7, they keep order, but retrieval still depends on keys, not position. So, you grab my_dict[\"key\"] without caring about the order, which doesn’t affect how you get data."
   ]
  },
  {
   "cell_type": "markdown",
   "id": "ecf9047c-18c0-4756-a9ba-831fb040276b",
   "metadata": {},
   "source": [
    "Q20. How do lists and dictionaries differ in data retrieval?\n",
    "Answer 20:\n",
    "Lists let you grab items by index, like my_list[0], but searching for a specific item can be slow (O(n)). Dictionaries use keys, like my_dict[\"name\"], for super-fast O(1) lookups thanks to their hash table setup, making them ideal when you know the key you’re after."
   ]
  },
  {
   "cell_type": "markdown",
   "id": "e05d3558-bc9d-4bae-9334-8d7789cd6b6e",
   "metadata": {},
   "source": [
    "\n"
   ]
  },
  {
   "cell_type": "markdown",
   "id": "23029e14-6f57-4f07-bc29-285f5c7195fd",
   "metadata": {},
   "source": [
    "Practical Questions"
   ]
  },
  {
   "cell_type": "code",
   "execution_count": 3,
   "id": "75681218-5d90-49b7-9932-93ba397e1ccf",
   "metadata": {},
   "outputs": [
    {
     "name": "stdout",
     "output_type": "stream",
     "text": [
      "Shashank Awasthi\n"
     ]
    }
   ],
   "source": [
    "#1. Write a code to create a string with your name and print it.\n",
    "\n",
    "\n",
    "name=\"Shashank Awasthi\"\n",
    "print(name)"
   ]
  },
  {
   "cell_type": "code",
   "execution_count": 5,
   "id": "a392e730-ae97-4666-89d3-d1a85074fc33",
   "metadata": {},
   "outputs": [
    {
     "name": "stdout",
     "output_type": "stream",
     "text": [
      "11\n"
     ]
    }
   ],
   "source": [
    "#2. Write a code to find the length of the string \"Hello World\".\n",
    "l=\"Hello World\"\n",
    "print(len(l))"
   ]
  },
  {
   "cell_type": "code",
   "execution_count": 7,
   "id": "ebe40e53-ca68-43b2-804f-fffe08e31a9f",
   "metadata": {},
   "outputs": [
    {
     "name": "stdout",
     "output_type": "stream",
     "text": [
      "Pyt\n"
     ]
    }
   ],
   "source": [
    "#3. Write a code to slice the first 3 characters from the string \"Python Programming\".\n",
    "a=\"Python Programming\"\n",
    "first_3=a[0:3]\n",
    "print(first_3)"
   ]
  },
  {
   "cell_type": "code",
   "execution_count": 11,
   "id": "344359d9-65df-43b2-986b-2751e66f04b8",
   "metadata": {},
   "outputs": [
    {
     "name": "stdout",
     "output_type": "stream",
     "text": [
      "HELLO\n"
     ]
    }
   ],
   "source": [
    "#4. Write a code to convert the string \"hello\" to uppercase.\n",
    "a=\"hello\"\n",
    "upper=a.upper()\n",
    "print(upper)"
   ]
  },
  {
   "cell_type": "code",
   "execution_count": 13,
   "id": "e2865db7-fa87-4add-a719-aee3dd06e2d2",
   "metadata": {},
   "outputs": [
    {
     "name": "stdout",
     "output_type": "stream",
     "text": [
      "I like orange\n"
     ]
    }
   ],
   "source": [
    "#5. Write a code to replace the word \"apple\" with \"orange\" in the string \"I like apple\"\n",
    "\n",
    "a= \"I like apple\"\n",
    "replace=a.replace(\"apple\",\"orange\")\n",
    "print(replace)"
   ]
  },
  {
   "cell_type": "code",
   "execution_count": 15,
   "id": "fa3f361c-7d04-428b-9955-d01aed0fed2d",
   "metadata": {},
   "outputs": [
    {
     "name": "stdout",
     "output_type": "stream",
     "text": [
      "[1, 2, 3, 4, 5]\n"
     ]
    }
   ],
   "source": [
    "#6. Write a code to create a list with numbers 1 to 5 and print it.\n",
    "l=[1,2,3,4,5]\n",
    "print(l)"
   ]
  },
  {
   "cell_type": "code",
   "execution_count": 23,
   "id": "9f5b3484-2723-4f71-8137-dfd103b6f116",
   "metadata": {},
   "outputs": [
    {
     "name": "stdout",
     "output_type": "stream",
     "text": [
      "[1, 2, 3, 4, 10]\n"
     ]
    }
   ],
   "source": [
    "#7. Write a code to append the number 10 to the list [1, 2, 3, 4].\n",
    "l=[1,2,3,4]\n",
    "l.append(10)\n",
    "print(l)\n"
   ]
  },
  {
   "cell_type": "code",
   "execution_count": 25,
   "id": "3b5e888c-c485-46dd-81b8-b03c160b3ca8",
   "metadata": {},
   "outputs": [
    {
     "name": "stdout",
     "output_type": "stream",
     "text": [
      "[1, 2, 4, 5]\n"
     ]
    }
   ],
   "source": [
    "#8. Write a code to remove the number 3 from the list [1, 2, 3, 4, 5].\n",
    "l=[1,2,3,4,5]\n",
    "l.remove(3)\n",
    "print(l)"
   ]
  },
  {
   "cell_type": "code",
   "execution_count": 29,
   "id": "f1b776d5-9e61-490b-b7d1-bb62f11ef2d4",
   "metadata": {},
   "outputs": [
    {
     "name": "stdout",
     "output_type": "stream",
     "text": [
      "b\n"
     ]
    }
   ],
   "source": [
    "#9. Write a code to access the second element in the list ['a', 'b', 'c', 'd'].\n",
    "l=['a', 'b', 'c', 'd']\n",
    "a=l[1]\n",
    "print(a)\n",
    "\n",
    "\n"
   ]
  },
  {
   "cell_type": "code",
   "execution_count": 33,
   "id": "47860e88-a0c1-48ee-9250-a0a79f8debf6",
   "metadata": {},
   "outputs": [
    {
     "data": {
      "text/plain": [
       "[50, 40, 30, 20, 10]"
      ]
     },
     "execution_count": 33,
     "metadata": {},
     "output_type": "execute_result"
    }
   ],
   "source": [
    "#10. Write a code to reverse the list [10, 20, 30, 40, 50].\n",
    "l=[10, 20, 30, 40, 50]\n",
    "l.reverse()\n",
    "l"
   ]
  },
  {
   "cell_type": "code",
   "execution_count": 35,
   "id": "341a2303-9c17-4535-ad37-8382b1c0db32",
   "metadata": {},
   "outputs": [
    {
     "data": {
      "text/plain": [
       "(100, 200, 300)"
      ]
     },
     "execution_count": 35,
     "metadata": {},
     "output_type": "execute_result"
    }
   ],
   "source": [
    "\n",
    "#11. Write a code to create a tuple with the elements 100, 200, 300 and print it.\n",
    "t=(100,200,300)\n",
    "t"
   ]
  },
  {
   "cell_type": "code",
   "execution_count": 43,
   "id": "c9d57ad4-1bd0-4f0e-ad85-ca7577d30a91",
   "metadata": {},
   "outputs": [
    {
     "data": {
      "text/plain": [
       "'blue'"
      ]
     },
     "execution_count": 43,
     "metadata": {},
     "output_type": "execute_result"
    }
   ],
   "source": [
    "\n",
    "#12. Write a code to access the second-to-last element of the tuple ('red', 'green', 'blue', 'yellow').\n",
    "t=('red', 'green', 'blue', 'yellow')\n",
    "a=t[-2]\n",
    "a\n"
   ]
  },
  {
   "cell_type": "code",
   "execution_count": 47,
   "id": "902feed2-0a92-4bd6-b4ad-4b570b43d937",
   "metadata": {},
   "outputs": [
    {
     "name": "stdout",
     "output_type": "stream",
     "text": [
      "5\n"
     ]
    }
   ],
   "source": [
    "#13. Write a code to find the minimum number in the tuple (10, 20, 5, 15).\n",
    "t=(10, 20, 5, 15)\n",
    "minimum=min(t)\n",
    "print(minimum)"
   ]
  },
  {
   "cell_type": "code",
   "execution_count": 51,
   "id": "1133bfff-a21c-460d-9e49-59d7a87ded1d",
   "metadata": {},
   "outputs": [
    {
     "name": "stdout",
     "output_type": "stream",
     "text": [
      "1\n"
     ]
    }
   ],
   "source": [
    "\n",
    "#14. Write a code to find the index of the element \"cat\" in the tuple ('dog', 'cat', 'rabbit').\n",
    "t=('dog', 'cat', 'rabbit')\n",
    "index=t.index(\"cat\")\n",
    "print(index)"
   ]
  },
  {
   "cell_type": "code",
   "execution_count": 53,
   "id": "08e30dfd-6b69-4bb1-a7f6-049b7f23eb4e",
   "metadata": {},
   "outputs": [
    {
     "name": "stdout",
     "output_type": "stream",
     "text": [
      "kiwi is present\n"
     ]
    }
   ],
   "source": [
    "#15. Write a code to create a tuple containing three different fruits and check if \"kiwi\" is in it.\n",
    "t=(\"mango\",\"apple\",\"kiwi\")\n",
    "if \"kiwi\" in t:\n",
    "    print(\"kiwi is present\")\n",
    "else:\n",
    "    print(\"kiwi is not present\")"
   ]
  },
  {
   "cell_type": "code",
   "execution_count": 55,
   "id": "7cc66cdb-5731-409a-a719-a7b3a912dc71",
   "metadata": {},
   "outputs": [
    {
     "name": "stdout",
     "output_type": "stream",
     "text": [
      "{'b', 'a', 'c'}\n"
     ]
    }
   ],
   "source": [
    "\n",
    "#16. Write a code to create a set with the elements 'a', 'b', 'c' and print it.\n",
    "s={'a',\"b\",\"c\"}\n",
    "print(s)\n"
   ]
  },
  {
   "cell_type": "code",
   "execution_count": 59,
   "id": "ad72eaf5-3e7c-4571-ab28-f75be49cc022",
   "metadata": {},
   "outputs": [
    {
     "data": {
      "text/plain": [
       "set()"
      ]
     },
     "execution_count": 59,
     "metadata": {},
     "output_type": "execute_result"
    }
   ],
   "source": [
    "#17. Write a code to clear all elements from the set {1, 2, 3, 4, 5}.\n",
    "s={1, 2, 3, 4, 5}\n",
    "s.clear()\n",
    "s"
   ]
  },
  {
   "cell_type": "code",
   "execution_count": 61,
   "id": "cb294ad3-aa9c-45b4-82a7-bfd3d2e95293",
   "metadata": {},
   "outputs": [
    {
     "data": {
      "text/plain": [
       "{1, 2, 3}"
      ]
     },
     "execution_count": 61,
     "metadata": {},
     "output_type": "execute_result"
    }
   ],
   "source": [
    "\n",
    "#18. Write a code to remove the element 4 from the set {1, 2, 3, 4}.\n",
    "s={1, 2, 3, 4}\n",
    "s.remove(4)\n",
    "s"
   ]
  },
  {
   "cell_type": "code",
   "execution_count": 75,
   "id": "e50ba741-9f83-4679-99bc-2fb5b24e83b8",
   "metadata": {},
   "outputs": [
    {
     "name": "stdout",
     "output_type": "stream",
     "text": [
      "Union is  {1, 2, 3, 4, 5}\n"
     ]
    }
   ],
   "source": [
    "\n",
    "#19. Write a code to find the union of two sets {1, 2, 3} and {3, 4, 5}.\n",
    "a={1, 2, 3}\n",
    "b= {3, 4, 5}\n",
    "print(\"Union is \"  ,  a|b)\n"
   ]
  },
  {
   "cell_type": "code",
   "execution_count": 71,
   "id": "81775746-ed2e-4777-9c7a-e9f5b7f486a6",
   "metadata": {},
   "outputs": [
    {
     "name": "stdout",
     "output_type": "stream",
     "text": [
      "Intersection is {2, 3}\n"
     ]
    }
   ],
   "source": [
    "#20. Write a code to find the intersection of two sets {1, 2, 3} and {2, 3, 4}.\n",
    "a={1, 2, 3}\n",
    "b={2, 3, 4}\n",
    "print(\"Intersection is\",a&b)\n"
   ]
  },
  {
   "cell_type": "code",
   "execution_count": 79,
   "id": "38cea3ed-f309-46dc-a942-f3dae2d2c73d",
   "metadata": {},
   "outputs": [
    {
     "name": "stdout",
     "output_type": "stream",
     "text": [
      "{'name': 'ABC', 'age': 304949, 'city': 'kfdj76'}\n"
     ]
    }
   ],
   "source": [
    "#21. Write a code to create a dictionary with the keys \"name\", \"age\", and \"city\", and print it.\n",
    "d={\"name\":\"ABC\",\"age\":304949,\"city\":\"kfdj76\"}\n",
    "print(d)"
   ]
  },
  {
   "cell_type": "code",
   "execution_count": 81,
   "id": "29e3fdd5-4ae7-4ca8-bb0d-63f20bcbb35f",
   "metadata": {},
   "outputs": [
    {
     "data": {
      "text/plain": [
       "{'name': 'John', 'age': 25, 'country': 'USA'}"
      ]
     },
     "execution_count": 81,
     "metadata": {},
     "output_type": "execute_result"
    }
   ],
   "source": [
    "#22. Write a code to add a new key-value pair \"country\": \"USA\" to the dictionary {'name': 'John', 'age': 25}.\n",
    "d={'name': 'John', 'age': 25}\n",
    "d[\"country\"]=\"USA\"\n",
    "d"
   ]
  },
  {
   "cell_type": "code",
   "execution_count": 83,
   "id": "ea987d71-aff8-4d9c-8326-8cd181693c12",
   "metadata": {},
   "outputs": [
    {
     "data": {
      "text/plain": [
       "'Alice'"
      ]
     },
     "execution_count": 83,
     "metadata": {},
     "output_type": "execute_result"
    }
   ],
   "source": [
    "#23. Write a code to access the value associated with the key \"name\" in the dictionary {'name': 'Alice', 'age': 30}.\n",
    "\n",
    "d={'name': 'Alice', 'age': 30}\n",
    "v=d[\"name\"]\n",
    "v"
   ]
  },
  {
   "cell_type": "code",
   "execution_count": 85,
   "id": "949cc243-9ff4-4263-aa28-3e56628b83f0",
   "metadata": {},
   "outputs": [
    {
     "data": {
      "text/plain": [
       "{'name': 'Bob', 'city': 'New York'}"
      ]
     },
     "execution_count": 85,
     "metadata": {},
     "output_type": "execute_result"
    }
   ],
   "source": [
    "#24. Write a code to remove the key \"age\" from the dictionary {'name': 'Bob', 'age': 22, 'city': 'New York'}.\n",
    "d={'name': 'Bob', 'age': 22, 'city': 'New York'}\n",
    "del d[\"age\"]\n",
    "d\n"
   ]
  },
  {
   "cell_type": "code",
   "execution_count": 87,
   "id": "2398132d-404a-47c1-a441-ac4d774153ef",
   "metadata": {},
   "outputs": [
    {
     "name": "stdout",
     "output_type": "stream",
     "text": [
      "city exists\n"
     ]
    }
   ],
   "source": [
    "#25. Write a code to check if the key \"city\" exists in the dictionary {'name': 'Alice', 'city': 'Paris'}.\n",
    "\n",
    "d={'name': 'Alice', 'city': 'Paris'}\n",
    "if \"city\" in d:\n",
    "    print(\"city exists\")\n",
    "else:\n",
    "    print(\"city don't exists\")"
   ]
  },
  {
   "cell_type": "code",
   "execution_count": 93,
   "id": "63c2e2aa-0e30-4bda-bc39-fd048476eafd",
   "metadata": {},
   "outputs": [
    {
     "name": "stdout",
     "output_type": "stream",
     "text": [
      "[1, 2]\n",
      "(1, 2)\n",
      "{'name': 'Alice', 'age': 25}\n"
     ]
    }
   ],
   "source": [
    "#26. Write a code to create a list, a tuple, and a dictionary, and print them all.\n",
    "a=[1,2]\n",
    "b=(1,2)\n",
    "c= {'name': 'Alice', 'age': 25}\n",
    "print(a)\n",
    "print(b)\n",
    "print(c)"
   ]
  },
  {
   "cell_type": "code",
   "execution_count": 95,
   "id": "462ea994-9e00-4a97-84c0-e42c9df3caac",
   "metadata": {},
   "outputs": [
    {
     "name": "stdout",
     "output_type": "stream",
     "text": [
      "[27, 34, 51, 53, 72]\n"
     ]
    }
   ],
   "source": [
    "\n",
    "#27. Write a code to create a list of 5 random numbers between 1 and 100, sort it in ascending order, and print the result.\n",
    "\n",
    "import random\n",
    "numbers=[random.randint(1,100) for z in range(5)]\n",
    "numbers.sort()\n",
    "print(numbers)\n",
    "\n"
   ]
  },
  {
   "cell_type": "code",
   "execution_count": 97,
   "id": "2878d5ee-7054-4e63-bb96-e69ae3b72bcb",
   "metadata": {},
   "outputs": [
    {
     "name": "stdout",
     "output_type": "stream",
     "text": [
      "date\n"
     ]
    }
   ],
   "source": [
    "#28. Write a code to create a list with strings and print the element at the third index.\n",
    "\n",
    "a = [\"apple\", \"banana\", \"cherry\", \"date\", \"elderberry\"]\n",
    "print(a[3])"
   ]
  },
  {
   "cell_type": "code",
   "execution_count": 99,
   "id": "e95ae331-c428-4994-a703-54d9751902d1",
   "metadata": {},
   "outputs": [
    {
     "name": "stdout",
     "output_type": "stream",
     "text": [
      "{'a': 1, 'b': 2, 'c': 3, 'd': 4}\n"
     ]
    }
   ],
   "source": [
    "\n",
    "#29. Write a code to combine two dictionaries into one and print the result.\n",
    "d1 = {'a': 1, 'b': 2}\n",
    "d2 = {'c': 3, 'd': 4}\n",
    "print(d1|d2)"
   ]
  },
  {
   "cell_type": "code",
   "execution_count": null,
   "id": "0fd3028b-2f4d-4ca9-b540-7371d7e2d25d",
   "metadata": {},
   "outputs": [],
   "source": [
    "#30. Write a code to convert a list of strings into a set."
   ]
  }
 ],
 "metadata": {
  "kernelspec": {
   "display_name": "Python [conda env:base] *",
   "language": "python",
   "name": "conda-base-py"
  },
  "language_info": {
   "codemirror_mode": {
    "name": "ipython",
    "version": 3
   },
   "file_extension": ".py",
   "mimetype": "text/x-python",
   "name": "python",
   "nbconvert_exporter": "python",
   "pygments_lexer": "ipython3",
   "version": "3.12.7"
  }
 },
 "nbformat": 4,
 "nbformat_minor": 5
}
